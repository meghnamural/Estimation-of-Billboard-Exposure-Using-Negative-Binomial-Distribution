{
  "nbformat": 4,
  "nbformat_minor": 0,
  "metadata": {
    "colab": {
      "name": "Negative Binomial Distribution..ipynb",
      "provenance": [],
      "collapsed_sections": []
    },
    "kernelspec": {
      "name": "python3",
      "display_name": "Python 3"
    }
  },
  "cells": [
    {
      "cell_type": "markdown",
      "metadata": {
        "colab_type": "text",
        "id": "EggPTvNajUqg"
      },
      "source": [
        "#ESTIMATING BILLBOARD EXPOSURE USING NEGATIVE-BINOMIAL DISTRIBUTION\n",
        "\n",
        "#VARIABLES:     r,alpha- model parameters\n",
        "#               data- Number of active consumers\n",
        "#               t- time period\n",
        "\n"
      ]
    },
    {
      "cell_type": "markdown",
      "metadata": {
        "id": "xMhF8MgejLTu",
        "colab_type": "text"
      },
      "source": [
        "Function:  probabilities() \t\t\t: Calculates the probability of exposure to a given billboard in time period t"
      ]
    },
    {
      "cell_type": "code",
      "metadata": {
        "id": "jriI-w5igcCB",
        "colab_type": "code",
        "colab": {}
      },
      "source": [
        "from math import log\n",
        "from matplotlib import pyplot as plt\n",
        "from scipy.optimize import minimize\n",
        "import numpy as np\n",
        "\n",
        "#Probability function\n",
        "def probabilities(r,alpha):\n",
        "\tp = np.power([alpha / (alpha + 1)],r)\n",
        "\tfor t in range(1, 24):\n",
        "\t\tpt = (r + t - 1) / (t*(alpha+1))*p[t-1]\n",
        "\t\tp=np.append(p,pt)\n",
        "\t\n",
        "\treturn p"
      ],
      "execution_count": 0,
      "outputs": []
    },
    {
      "cell_type": "markdown",
      "metadata": {
        "id": "tXNlHNm0jPLc",
        "colab_type": "text"
      },
      "source": [
        "Function:   exposure_rates()      \t: Calculates the exposure rates of individual consumers"
      ]
    },
    {
      "cell_type": "code",
      "metadata": {
        "id": "BDzLyvwtia6S",
        "colab_type": "code",
        "colab": {}
      },
      "source": [
        "\n",
        "def exposure_rates(data):\n",
        "\tz = []\n",
        "\tfor i, x in enumerate(data):\n",
        "\t\tif i == 0:\n",
        "\t\t\tz.append(data[0])\n",
        "\t\telse:\n",
        "\t\t\tz.append(data[i])\n",
        "\treturn z"
      ],
      "execution_count": 0,
      "outputs": []
    },
    {
      "cell_type": "markdown",
      "metadata": {
        "id": "-BMYqdMajaII",
        "colab_type": "text"
      },
      "source": [
        "Function:    maximize()               : Maximizes the log likelihood to determine the optimal model parameters"
      ]
    },
    {
      "cell_type": "code",
      "metadata": {
        "id": "FaDPFObbicIp",
        "colab_type": "code",
        "colab": {}
      },
      "source": [
        "def maximize(data):\n",
        "\t\n",
        "\tfunc = lambda x: -max_likelihood(x[0], x[1], data)\n",
        "\tx0 = np.array([4, 4])\n",
        "\tk = minimize(func, x0, method='nelder-mead', options={'disp': True})\n",
        "\treturn k   \t"
      ],
      "execution_count": 0,
      "outputs": []
    },
    {
      "cell_type": "markdown",
      "metadata": {
        "id": "td8luo8yjfdm",
        "colab_type": "text"
      },
      "source": [
        "Function:   distribution()           : Calculates the probability distribution"
      ]
    },
    {
      "cell_type": "code",
      "metadata": {
        "id": "S5vxXpWkifz8",
        "colab_type": "code",
        "colab": {}
      },
      "source": [
        "def distribution(r,alpha,i):\n",
        "\tgl=(np.power(alpha,r)*np.power(i,(r-1))*np.exp(-alpha*i))/np.math.factorial(int((r-1)))\n",
        "\treturn gl"
      ],
      "execution_count": 0,
      "outputs": []
    },
    {
      "cell_type": "markdown",
      "metadata": {
        "id": "SHysJAfDjqWZ",
        "colab_type": "text"
      },
      "source": [
        "\n",
        "Fucntion:  max_likelihood()\t\t\t: Calculates the log likelihood of the nBD model parameters"
      ]
    },
    {
      "cell_type": "code",
      "metadata": {
        "id": "12WlOYylii7I",
        "colab_type": "code",
        "colab": {}
      },
      "source": [
        "\n",
        "#Calculating the maximimum log likelihood\n",
        "def max_likelihood(r,alpha,data):\n",
        "\n",
        "\tprob = probabilities(r, alpha)\n",
        "\tprint(prob[0])\n",
        "\tdata=np.array(data)\n",
        "\tum=data*np.log(prob)\n",
        "\t\n",
        "\tfinal=np.ndarray.sum(um)\n",
        "\t\n",
        "\treturn final\t"
      ],
      "execution_count": 0,
      "outputs": []
    },
    {
      "cell_type": "code",
      "metadata": {
        "id": "qRznxeC_ilbm",
        "colab_type": "code",
        "colab": {}
      },
      "source": [
        "def nbd(data):\n",
        "\t\n",
        "\tlog_likelihood=max_likelihood(1.,1.,data)\n",
        "\tk=maximize(data)\n",
        "\tr, alpha = k.x\n",
        "\tprint(\"r is\",r)\n",
        "\tprint(\"alpha is\",alpha)\n",
        "\t\n",
        "\n",
        "\texpectation=(r*4)/alpha\n",
        "\n",
        "\tprint(expectation)\n",
        "\th=[]\n",
        "\tfor i in range(1,11):\n",
        "\t\t\n",
        "\t\tg=distribution(r,alpha,i)\n",
        "\t\tprint(g)\n",
        "\t\th=np.append(h,g)\n",
        "\tprint(h)\t\n",
        "\n",
        "\t#Plot\n",
        "\tplt.plot(np.array(range(1,11)), h)\n",
        "\tplt.title('Negative-Binomial Distribution')\n",
        "\tplt.xlabel('lambda')\n",
        "\tplt.ylabel('Function of lambda')\n",
        "\tplt.show()\n",
        "\treturn r,alpha"
      ],
      "execution_count": 0,
      "outputs": []
    },
    {
      "cell_type": "markdown",
      "metadata": {
        "id": "q4IQxQqohga_",
        "colab_type": "text"
      },
      "source": [
        "Function Call using sample data "
      ]
    },
    {
      "cell_type": "code",
      "metadata": {
        "id": "iz8ZWY1NhcOw",
        "colab_type": "code",
        "outputId": "845ae627-11b5-4b9c-9e42-44b7e79b2718",
        "colab": {
          "base_uri": "https://localhost:8080/",
          "height": 1000
        }
      },
      "source": [
        "data=[48,37,30,24,20,16,13,11,9,7,6,5,5,3,3,2,2,2,1,1,2,1,1,1]\n",
        "r,alpha= nbd(data)"
      ],
      "execution_count": 0,
      "outputs": [
        {
          "output_type": "stream",
          "text": [
            "0.5\n",
            "0.4096000000000001\n",
            "0.3917219839139992\n",
            "0.42558252512166944\n",
            "0.3748676026461084\n",
            "0.348531533441583\n",
            "0.331857021436812\n",
            "0.29384928792547205\n",
            "0.24776909095837998\n",
            "0.17530221975734556\n",
            "0.13124360944384075\n",
            "0.050847764822917536\n",
            "0.003388096946781718\n",
            "0.035772192452319745\n",
            "0.0005568729903095432\n",
            "0.10002015242867018\n",
            "0.010506457999512\n",
            "0.06882458137430154\n",
            "0.023597659415921252\n",
            "0.032555971378991175\n",
            "0.020244085698906487\n",
            "0.04217951792237753\n",
            "0.026784713062544468\n",
            "0.03807054772250857\n",
            "0.041696274385694405\n",
            "0.03929663298234203\n",
            "0.03995186582383668\n",
            "0.033954928887450074\n",
            "0.038100516506659424\n",
            "0.039436259769671786\n",
            "0.04652910807435156\n",
            "0.04650286896909697\n",
            "0.05098488783253844\n",
            "0.042022684508429366\n",
            "0.05761242659908962\n",
            "0.07823480836298928\n",
            "0.09979314086841604\n",
            "0.3667261245422137\n",
            "nan\n",
            "0.2344604458562551\n",
            "nan\n",
            "nan\n",
            "0.12546159384629166\n",
            "0.08768024251881162\n",
            "0.11730929785716628\n",
            "0.08334756372288192\n",
            "0.16079297291114114\n",
            "0.16639076926150395\n",
            "0.1945884243417875\n",
            "0.23844289358975762\n",
            "0.19478030125275994\n",
            "0.19513719029658363\n",
            "0.17041373328246995\n",
            "0.19876859347486067\n",
            "0.1737776637291311\n",
            "0.15443575620764693\n",
            "0.18278136193137462\n",
            "0.1857684577305346\n",
            "0.19640936757648658\n",
            "0.21014002960346922\n",
            "0.19283155516620082\n",
            "0.18761299922004676\n",
            "0.2013242620346974\n",
            "0.18730385350576512\n",
            "0.179302360158624\n",
            "0.1918381145358556\n",
            "0.1920521692537128\n",
            "0.1885066248102875\n",
            "0.18444271339710688\n",
            "0.189929673303454\n",
            "0.19084198324590632\n",
            "0.1884122964806775\n",
            "0.18981965487173202\n",
            "0.18883820312351474\n",
            "0.18733958898185152\n",
            "0.1879801499561328\n",
            "0.18840141911117073\n",
            "0.1884104846266323\n",
            "0.18755666766156365\n",
            "0.18851606390144215\n",
            "0.1889491483500538\n",
            "0.18905545377067973\n",
            "0.1885712860559287\n",
            "0.18814002661855372\n",
            "0.18834164098028502\n",
            "0.18828635554265227\n",
            "0.1881439327487525\n",
            "0.1884606535407693\n",
            "0.18837140083041187\n",
            "0.18814204437158455\n",
            "0.18842243037746548\n",
            "0.18850750428386895\n",
            "0.1883416291703258\n",
            "0.18829065452682564\n",
            "0.18832358008662978\n",
            "0.18835333354341727\n",
            "0.18834456087073798\n",
            "0.1883923939150229\n",
            "0.188426816932764\n",
            "0.1883655469592649\n",
            "0.1883699387648075\n",
            "0.1884177754264791\n",
            "0.18836286266405716\n",
            "0.1883404135214636\n",
            "0.1883793966447641\n",
            "Optimization terminated successfully.\n",
            "         Current function value: 649.688828\n",
            "         Iterations: 55\n",
            "         Function evaluations: 104\n",
            "r is 0.9692862485960895\n",
            "alpha is 0.21751938009173036\n",
            "17.82436577719798\n",
            "0.1833911667185558\n",
            "0.14443258578905838\n",
            "0.11475967162866414\n",
            "0.0915133583009932\n",
            "0.07312073640883837\n",
            "0.05849801600798904\n",
            "0.046840064395168045\n",
            "0.0375291619750519\n",
            "0.03008363524865134\n",
            "0.024124452379771576\n",
            "[0.18339117 0.14443259 0.11475967 0.09151336 0.07312074 0.05849802\n",
            " 0.04684006 0.03752916 0.03008364 0.02412445]\n"
          ],
          "name": "stdout"
        },
        {
          "output_type": "stream",
          "text": [
            "/usr/local/lib/python3.6/dist-packages/ipykernel_launcher.py:11: RuntimeWarning: invalid value encountered in power\n",
            "  # This is added back by InteractiveShellApp.init_path()\n"
          ],
          "name": "stderr"
        },
        {
          "output_type": "display_data",
          "data": {
            "image/png": "[encoded data removed]",
            "text/plain": [
              "<Figure size 432x288 with 1 Axes>"
            ]
          },
          "metadata": {
            "tags": []
          }
        }
      ]
    }
  ]
}